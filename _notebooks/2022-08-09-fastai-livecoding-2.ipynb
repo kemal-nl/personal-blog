{
 "cells": [
  {
   "cell_type": "markdown",
   "metadata": {},
   "source": [
    "# Live Coding Session 2\n",
    "> My personal notes for the fast.ai live coding session 2.\n",
    "\n",
    "- toc: true \n",
    "- badges: false\n",
    "- comments: true\n",
    "- categories: [live-coding]"
   ]
  },
  {
   "cell_type": "markdown",
   "metadata": {},
   "source": [
    "# Relevant Material\n",
    "\n",
    "[Live Coding Session 2 Forum](https://forums.fast.ai/t/live-coding-2/96690)\n",
    "\n",
    "> youtube: https://youtu.be/0pWjZByJ3Lk"
   ]
  },
  {
   "cell_type": "markdown",
   "metadata": {},
   "source": [
    "> Note: These are my personal notes. They are not meant to be a comprehensive summary, but rather the things I wanted to note down for myself to refer to at a later point."
   ]
  },
  {
   "cell_type": "markdown",
   "metadata": {},
   "source": [
    "# At the end of this lesson you will have:\n",
    "- learned how to use git and github at a basic level (cloning, forking, committing, pushing, gitignor)\n",
    "- learned how to use SSH to use a computer remotely\n",
    "- learned how to use tmux for improved productivity by using multiple terminals\n",
    "- learned how to use Jupyter Notebooks\n",
    "- installed fastai"
   ]
  },
  {
   "cell_type": "markdown",
   "metadata": {},
   "source": [
    "# Notes"
   ]
  },
  {
   "cell_type": "markdown",
   "metadata": {},
   "source": [
    "## Git and Github\n",
    "- Git is a version control system with which you can create a repository. Easy to switch to older versions (i.e. 'backups')\n",
    "- Github is a website that hosts git repositories\n",
    "- Cloning repositories: `git clone [git url]`\n",
    "    - You can do it with HTTP, but cannot commit without logging into repository\n",
    "    - Alternatively you can use SSH\n",
    "- If you want to experiment with a repository you can fork it via github. Then you can clone it and plan around with it locally.\n",
    "- Basic workflow:\n",
    "    - `git status` \n",
    "    - `git add .`\n",
    "    - `git commit -m \"Updated something\"`\n",
    "    - `git push`\n"
   ]
  },
  {
   "cell_type": "markdown",
   "metadata": {},
   "source": [
    "## SSH\n",
    "- SSH is a way of logging into remote computers\n",
    "- It consists of a key-pair: public key and a prviate key\n",
    "    - __Private key__ is proof of identity (should be kept secret)\n",
    "    - __Public key__ says if you can prove identity associated with private key, you can log in \n",
    "- To generate SSH keys, input in terminal: `ssh-keygen`"
   ]
  },
  {
   "cell_type": "markdown",
   "metadata": {},
   "source": [
    "## tmux\n",
    "- Allows for multiple terminals inside one terminal window\n",
    "- Shortcuts always start with <kbd>CTRL</kbd>+<kbd>B</kbd>:\n",
    "    - Divide current window vertically: <kbd>CTRL</kbd>+<kbd>B</kbd>+<kbd>%</kbd>\n",
    "    - Divide current window horizontally: <kbd>CTRL</kbd>+<kbd>B</kbd>+<kbd>\"</kbd>\n",
    "    - Close window: <kbd>CTRL</kbd>+<kbd>B</kbd>+<kbd>D</kbd>\n",
    "    - Move around: <kbd>CTRL</kbd>+<kbd>B</kbd>+<kbd>&darr;</kbd><kbd>&uarr;</kbd><kbd>&larr;</kbd><kbd>&rarr;</kbd>\n",
    "    - Toggle zoom (focus on one window): <kbd>CTRL</kbd>+<kbd>B</kbd>+<kbd>Z</kbd>\n",
    "    - Attach (starts your session from where it left off after <kbd>CTRL</kbd>+<kbd>B</kbd>+<kbd>D</kbd>): `tmux a`"
   ]
  },
  {
   "cell_type": "markdown",
   "metadata": {},
   "source": [
    "## Jupyter\n",
    "- Show documentation for a function: <kbd>SHIFT</kbd>+<kbd>TAB</kbd>"
   ]
  },
  {
   "cell_type": "markdown",
   "metadata": {},
   "source": [
    "## Install fast.ai\n",
    "- Install: `mamba install -c fastchan fastai`\n",
    "- Alternatively you can also install fastbook which includes fastai: `mamba install -c fastchan fastbook`"
   ]
  }
 ],
 "metadata": {
  "language_info": {
   "name": "python"
  },
  "orig_nbformat": 4
 },
 "nbformat": 4,
 "nbformat_minor": 2
}
