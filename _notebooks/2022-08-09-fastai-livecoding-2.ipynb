{
 "cells": [
  {
   "cell_type": "markdown",
   "metadata": {},
   "source": [
    "# Live Coding Session 2\n",
    "> My personal notes for the fast.ai live coding session 2.\n",
    "\n",
    "- toc: true \n",
    "- badges: false\n",
    "- comments: true\n",
    "- categories: [live-coding]"
   ]
  },
  {
   "cell_type": "markdown",
   "metadata": {},
   "source": [
    "# Relevant Material\n",
    "\n",
    "[Live Coding Session 2 Forum](https://forums.fast.ai/t/live-coding-2/96690)\n",
    "\n",
    "> youtube: https://youtu.be/0pWjZByJ3Lk"
   ]
  },
  {
   "cell_type": "markdown",
   "metadata": {},
   "source": [
    "> Note: These are my personal notes. They are not meant to be a comprehensive summary, but rather the things I wanted to note down for myself to refer to at a later point."
   ]
  },
  {
   "cell_type": "markdown",
   "metadata": {},
   "source": [
    "# At the end of this lesson you will have:\n",
    "- To be updated"
   ]
  },
  {
   "cell_type": "markdown",
   "metadata": {},
   "source": [
    "# Notes\n",
    "\n",
    "## Prerequisites\n",
    "- Install Windows Subsystem for Linux (WSL) by typing into Powershell (run as admin): `wsl --install`\n",
    "    - For more details refer to [guide by Microsoft](https://docs.microsoft.com/en-us/windows/wsl/install)\n",
    "- Check whether Python and Jupyter are installed: `python` and `jupyter`\n",
    "    - Output (e.g. for Python) should be: `Command 'python' not found` \n",
    "    - There probably is a system version of Python. You do not want to be using this since it may interfere with the OS behavior.\n",
    "\n",
    "## Install conda/mambaforge manually\n",
    "1. Make downloads directory inside home directory: `mkdir downloads`\n",
    "1. Download mambaforge: `wget https://github.com/conda-forge/miniforge/releases/latest/download/Mambaforge-Linux-x86_64.sh`\n",
    "1. Install mambaforge using bash: `bash Mambaforge-Linux-x86_64.sh`\n",
    "    - To ensure python environment is set up when starting terminal: `Do you wish the installer to initialize Mambaforge by running conda init? [yes|no]` &rarr; `yes`\n",
    "1. After installing and restarting shell, terminal should mention `(base)` and `which python` should show a python directory in the mambaforge directory\n",
    "\n",
    "## Install conda/mambaforge with bash script from fastai/fastsetup\n",
    "0. If you followed steps to manually install conda/mambaforge:\n",
    "    - Remove mambaforge from home directory: `rm -rf mambaforge` \n",
    "    - Remove mambaforge installer from downloads directory: `rm -rf`\n",
    "    - Restart shell\n",
    "0. Go to [fastsetup github repo](https://github.com/fastai/fastsetup) and click on setup-conda.sh. Subsequently click on raw and copy url. Download it: `wget https://raw.githubusercontent.com/fastai/fastsetup/master/setup-conda.sh`\n",
    "0. Run it: `bash setup-conda.sh` or `./setup-conda.sh`\n",
    "    - If you get `Permission Denied` then:\n",
    "        - Inspect permissions: `ls -l` (output needs to contain 'x' which stands for permission to execute)\n",
    "        - Change permission: `chmod u+x setup-conda.sh`\n",
    "\n",
    "## Install other packages with mamba\n",
    "- Python libraries can be installed with: conda, pip, mamba\n",
    "    - conda vs mamba: 2 ways of doing same thing, compatible with each other, mamba is faster\n",
    "    - prefer to use mamba, but usually documentation refers to conda (more established, around longer)\n",
    "    - advantage of conda/mamba over pip is that the dependencies are also installed correctly. If you use pip to install pytorch for instance, you need to install other stuff as well, whereas conda/mamba take care of installing everything you need correctly.\n",
    "- Never install stuff through `apt`, that is system stuff\n",
    "1. Install ipython: `mamba install ipython`\n",
    "1. Install pytorch:\n",
    "    1. Go to [pytorch.org](pytorch.org)  &rarr; Get Started &rarr; Start Locally\n",
    "    1. Pick options: Stable, Linux, Conda, Python, CPU\n",
    "    1. Copy command, paste into terminal, change conda to mamba: `mamba install pytorch torchvision torchaudio cpuonly -c pytorch`\n",
    "        - `-c pytorch` refers to the channel of pytorch \n",
    "        - check if installed correctly by starting `ipython` and subsequently typing `import torch`.\n",
    "1. Install jupyerlab: `mamba install jupyterlab`\n",
    "    - Start Jupyter Lab: `jupyter lab`\n",
    "    - This will start jupyter server. It will try to open browser, but there is no browser in Ubuntu, so it will give error. But link that is returned in Terminal can be <kbd>Control</kbd>+clicked to open browser in Windows.\n",
    "    - If you do not want the error, add flag: `jupyter lab --no-browser`"
   ]
  },
  {
   "cell_type": "markdown",
   "metadata": {},
   "source": [
    "## Useful tips/commands in Linux\n",
    "- Check where Python is installed: `which python`\n",
    "- Print working directory you are in: `pwd`\n",
    "- Navigate to home directory: `cd` or `cd ~`\n",
    "- Make directory: `mkdir [directory name]`\n",
    "- Delete directory (recursive and force delete): `rm -rf [directory name]`\n",
    "- Move directory: `mv`\n",
    "- List contents of directory `ls [-flags]`\n",
    "    Flags\n",
    "    - Long form: `l`\n",
    "    - Human readable: `h`\n",
    "    - All (i.e. including hidden ones): `a`\n",
    "    - Sorted by date modified: `t`\n",
    "    - Possible to combine flags, e.g.: `ls -lhat` \n",
    "- Look at a text file: `less [filename]`\n",
    "- Restart shell: `sudo -u [user] -i`\n",
    "- Change permission: `chmod u+x [filename]` (u=user, x=execute permission)\n",
    "- Close terminal program: <kbd>Control</kbd>+<kbd>D</kbd>\n",
    "- Shortcut to run command: press <kbd>UP</kbd> arrow to cycle through previous commands\n",
    "    - All your terminal inputs are stored in the home folder in a file named `.bash_history`. This is convenient for creating bash scripts. Note that `.bash_history` is overwritten. If you have multiple bash sessions, only last one will survive.\n",
    "- Search through your previous terminal commands: <kbd>Control</kbd>+<kbd>R</kbd>\n",
    "- Run last command starting with some letters: `![letters]`\n",
    "    - e.g. if last command you ran starting with `ju` was `jupyter lab --no-browser`, then `!ju` would run that command\n",
    "- Run last command: `!!`\n",
    "    - can use `echo` to print it\n",
    "- Jump to:\n",
    "    - end of line: <kbd>Control</kbd>+<kbd>E</kbd>\n",
    "    - start of line: <kbd>Control</kbd>+<kbd>A</kbd>\n",
    "    - end/start of a word : <kbd>Control</kbd>+<kbd>LEFT</kbd>/<kbd>RIGHT</kbd>\n",
    "- Define alias (i.e. a shortcut for a command): `alias [alias]=\"[command]\"`\n",
    "    - e.g. alias jl=\"jupyter lab --no-browser\"\n",
    "    - if you want it to persist across sessions, need to add it to `.bashrc` or to `.bash_aliases`\n"
   ]
  },
  {
   "cell_type": "markdown",
   "metadata": {},
   "source": [
    "## Useful tip for ipython\n",
    "- By pressing <kbd>TAB</kbd> after typing a library name, you get to see all the functions (including arguments), submodules, etc."
   ]
  }
 ],
 "metadata": {
  "language_info": {
   "name": "python"
  },
  "orig_nbformat": 4
 },
 "nbformat": 4,
 "nbformat_minor": 2
}
