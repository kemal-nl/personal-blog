{
 "cells": [
  {
   "cell_type": "markdown",
   "metadata": {},
   "source": [
    "# Live Coding Session 3\n",
    "> My personal notes for the fast.ai live coding session 3.\n",
    "\n",
    "- toc: true \n",
    "- badges: false\n",
    "- comments: true\n",
    "- categories: [live-coding]"
   ]
  },
  {
   "cell_type": "markdown",
   "metadata": {},
   "source": [
    "# Relevant Material\n",
    "\n",
    "[Live Coding Session 3 Forum](https://forums.fast.ai/t/live-coding-3/96707)\n",
    "\n",
    "> youtube: https://youtu.be/B6BQiIgiEks"
   ]
  },
  {
   "cell_type": "markdown",
   "metadata": {},
   "source": [
    "> Note: These are my personal notes. They are not meant to be a comprehensive summary, but rather the things I wanted to note down for myself to refer to at a later point."
   ]
  },
  {
   "cell_type": "markdown",
   "metadata": {},
   "source": [
    "# At the end of this lesson you will have:\n",
    "- ..."
   ]
  },
  {
   "cell_type": "markdown",
   "metadata": {},
   "source": [
    "# Notes"
   ]
  },
  {
   "cell_type": "markdown",
   "metadata": {},
   "source": [
    "## Why not use virtual environment?\n",
    "- Virtual environments are separate folders with separate installations of Python and Python libraries. Good for keeping different projects separated with different sets of dependencies/versions. Jeremy prefers to have all his projects be compatible with each other and therefore has a baseline environment which he uses for all his projects.\n",
    "- He manages this by:\n",
    "    - Using a single base environment\n",
    "    - Keeping libraries up to date\n",
    "    - Having good tests that can tell if some new release has broken something\n",
    "- Exception: when Jeremy wants to check if something works with a specific version of Python.\n",
    "- How to uninstall mamba: `rm -rf mamba forge`"
   ]
  },
  {
   "cell_type": "markdown",
   "metadata": {},
   "source": [
    "## PATH and virtual environment\n",
    "- Terminals use something called `PATH`, which is a list of places from which to run programs.\n",
    "- View `PATH` variable: `echo $PATH`\n",
    "- mamba directory looks very similar to Linux root directory\n",
    "- .bashrc sets `PATH` variable\n",
    "- Create a new environment called `tmp`: `mamba create -n tmp 'python<3.10' fastcore`\n",
    "- Activate new environment: `mamba activate tmp`\n",
    "- Deactivate: `mamba deactivate`"
   ]
  },
  {
   "cell_type": "markdown",
   "metadata": {},
   "source": [
    "## Paperspace\n",
    "- Most of the time you won't (or shouldn't) be using a GPU. However when you do, it should feel as much as possible as if you are using your own computer and shouldn't cost you much (if any) money &rarr; Paperspace \n",
    "- With Gradient Notebooks you can get a free GPU server which behaves a lot like what we have worked with so far"
   ]
  },
  {
   "cell_type": "markdown",
   "metadata": {},
   "source": [
    "## Debugging in Jupyter\n",
    "- Start debugger: `%% debug`\n",
    "- Starts a REPL, some useful commands: h=help, s=step into, n=next, c=continue, l=list, q=quit\n",
    "- Note: `breakpoint()` does not work in Jupyter due to some unresolved bug\n",
    "- You can use pdb to step into library code as well"
   ]
  },
  {
   "cell_type": "markdown",
   "metadata": {},
   "source": [
    "## How to ensure libraries we install are not deleted when Paperspace is restarted\n",
    "- Since Paperspace does not offer a real server, whatever you install, will not be there the next time you start it up\n",
    "- Paperspace does have persistent storage however. There is a folder called `storage` in the root directory. Whatever you store in there, will be there next time you start up the Paperspace 'server'.\n",
    "    - View all drives and how much space is available: `df -h`\n",
    "- In contrast to conda/mamba, pip allows for us to install libraries in our home directory (`cd ~`) rather than in the root directory (`cd /`). We would want to do this if we do not have access to the root directory or we cannot save in the root directory. This is done by: `pip install --user [library]`\n",
    "    - For data science libraries, usually it is better to use conda/mamba. For example if you want to install PyTorch it is better to use conda/mamba, as it takes care of the dependencies for you. If you pip install it on the other hand, you will need to install CUDA SDK separately for instance. \n",
    "    - However, pip is fine for installing libraries without those types of dependencies. For most regular Python libraries, pip is fine. \n",
    "- When installing via pip with the `--user` flag, a new folder called `.local` is created in the home directory and the package will be installed in there.\n",
    "- We want the .local directory to persist across sessions:\n",
    "    1. We move it to `root/storage`: `mv .local /storage` \n",
    "    1. But Python needs it in the home directory. For this we create a 'symbolic link' aka 'symlink' (basically a shortcut): `ln -s /storage/.local`\n",
    "    1. `.local` will now persist across sessions, however symlink will be removed. Paperspace runs a file every time on startup called `pre-run.sh`. We can use this file to create the symlink every time a notebook is started."
   ]
  },
  {
   "cell_type": "markdown",
   "metadata": {},
   "source": [
    "## git folder on Paperspace\n",
    "- Jeremy has a git folder in `/notebooks` (sym linked, source directory is inside `/storage`). This is used to git clone repositories into it. (Needs to end up in `pre-run.sh`)\n",
    "\n",
    "## SSH key on paperspace \n",
    "- There are 2 options:\n",
    "    1. Use pre-existing SSH key (same as my local machine)\n",
    "        - Jeremy's preference, because he doesn't want to do too much 'SSH key admin'\n",
    "        - How to:\n",
    "            - Generate ssh key with `ssh-keygen`\n",
    "            - Move to `/storage`: `mv .ssh /storage`\n",
    "            - Sym link (needs to end up in `pre-run.sh`): `ln -s /storage/.ssh`\n",
    "            - Edit contents of `id_rsa` and `is_rsa.pub` (not sure if latter is needed).\n",
    "            - Check if permissions match that of default ssh key. If not: \n",
    "                - `chmod ag-rw id_rsa`\n",
    "                - `chmod ag-w id_rsa.pub`\n",
    "    1. Generate new one for Paperspace\n",
    "- Check by ssh into github: `ssh git@github.com` &rarr;\n",
    "    - Returned text should mention your github username"
   ]
  }
 ],
 "metadata": {
  "language_info": {
   "name": "python"
  },
  "orig_nbformat": 4
 },
 "nbformat": 4,
 "nbformat_minor": 2
}
