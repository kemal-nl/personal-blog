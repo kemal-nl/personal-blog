{
 "cells": [
  {
   "cell_type": "markdown",
   "metadata": {},
   "source": [
    "# Book Chapter 1\n",
    "> My personal notes for the fast.ai book Chapter 1.\n",
    "\n",
    "- toc: true \n",
    "- badges: false\n",
    "- comments: true\n",
    "- categories: [fast-ai-book]"
   ]
  },
  {
   "cell_type": "markdown",
   "metadata": {},
   "source": [
    "# Relevant Material\n",
    "\n",
    "[fast.ai Book Chapter 1 (Jupyter Notebook)](https://github.com/fastai/fastbook/blob/master/01_intro.ipynb)\n",
    "\n",
    "[fast.ai Book](https://www.amazon.com/Deep-Learning-Coders-fastai-PyTorch/dp/1492045527)"
   ]
  },
  {
   "cell_type": "markdown",
   "metadata": {},
   "source": [
    "> Note: These are my personal notes. They are not meant to be a comprehensive summary, but rather the things I wanted to note down for myself to refer to at a later point."
   ]
  },
  {
   "cell_type": "markdown",
   "metadata": {},
   "source": [
    "# Notes"
   ]
  },
  {
   "cell_type": "markdown",
   "metadata": {},
   "source": [
    "## Deep Learning is for Everyone\n",
    "- It is a commonly held belief that in order for you to do deep learning successfully, you need:\n",
    "    - anything beyond high school math\n",
    "    - inordinate amounts of data that ordinary individuals do not have access too\n",
    "    - prohibitively expensive hardware\n",
    "- What is deep learning essentially?\n",
    "    - Technique to extract and transform data\n",
    "    - By making use of multiple layers of neural networks. Each of these layers takes inputs from previous layers and progressively refines them. \n",
    "    - Layers are trained by algorithms that minimizes their errors and improves accuracy.\n",
    "- Due to Deep Learning's versatility and power, its application space is vast and often it is the dominant technique in terms of performance. Some examples:\n",
    "    - Natural Language Processing (NLP)\n",
    "    - Computer Vision\n",
    "    - Medicine\n",
    "    - Biology\n",
    "    - Image generation\n",
    "    - Recommendation systems\n",
    "    - Playing games\n",
    "    - Robotics\n"
   ]
  },
  {
   "cell_type": "markdown",
   "metadata": {},
   "source": [
    "## Neural Networks: A Brief History\n",
    "- McCulloch, Pitts realized that simplified model of a real neuron could be represented using simple addition and thresholding. Further reading: _A logical calculus of the ideas immanent in nervous activity, McCulloch, Pitts_.\n",
    "- Rosenblatt further built on this work to develop a machine that could learn (Mark I Perceptron). Further reading: _The Design of an Intelligent Automaton, Rosenblatt_.\n",
    "- Minsky and Papert states about Rosenblatt's invention that a single layer of these devices was unable to learn some simple but crtical mathematical function such as XOR. They also showed that with multiple layers these limitations could be addressed. Only first insight was widely recognized and neural networks were abandoned for two decades because of this misperception. Further reading: _Perceptrons_\n",
    "- Pivotal work in neural networks by Rumelhart, McClellan. In their book _Parallel Distributed Processing (PDP)_, they propose that PDP requires:\n",
    "    1. A set of _processing units_\n",
    "    1. A state of _activation_\n",
    "    1. An _output function_ for each unit\n",
    "    1. A _pattern of connectivity_ among units\n",
    "    1. A _propagation rule_ for propagating patterns of activities through the network of connectivities\n",
    "    1. An _activation rule_ for combining inputs impinging on a unit with the current state of that unit to produce an output for the unit\n",
    "    1. A _learning rule_ whereby patterns of connectivity are modified by experience\n",
    "    1. An _environment_ within which the system must operate\n",
    "- Although a second layer can approximate all functions, this results in a slow neural network. In more recent work, more layers of neurons are being used, as a consequence of which performance and speed has improved and neural networks are living up to their potential."
   ]
  },
  {
   "cell_type": "markdown",
   "metadata": {},
   "source": [
    "## How to Learn Deep Learning (and anything else)\n",
    "- Top down by _doing_ rather than by learning (same way in which you would learn sports)\n",
    "- Theory comes later when needed and after you have more of a context through experience\n",
    "- Apply what you learn to personal project, be tenacious\n",
    "- Do a little bit of a lot of the time rather than a lot a little bit of the time"
   ]
  },
  {
   "cell_type": "markdown",
   "metadata": {},
   "source": [
    "## The Software: PyTorch, fastai, and Jupyter\n",
    "- __PyTorch__ is fastest growing deep learning library and widely adopted in research &rarr; leading indicator for industry adoption\n",
    "- PyTorch works best as low-level foundation library, __fastai__ most popular high-level library, on top of PyTorch\n",
    "- Further reading: _fastai: A Layered API for Deep Learning, Howard, Gugger_\n",
    "- Which deep learning library you learn does not matter that much, switching is a matter of days"
   ]
  },
  {
   "cell_type": "markdown",
   "metadata": {},
   "source": [
    "## Your First Model\n",
    "- To train Deep Learning models, an NVIDIA GPU is needed.\n",
    "- __GPU = Graphics Processing Unit__ &rarr; handles thousands of single tasks at the same time. Initially used for rendering 3D environments on computers, it can speed up Deep Learning calculations hundreds of times compared to regular CPUs.\n",
    "- How do we know if a model is any good?\n",
    "    - __Error rate__: proportion of incorrectly identified images"
   ]
  },
  {
   "cell_type": "markdown",
   "metadata": {},
   "source": [
    "## What is Machine Learning?\n",
    "- Deep learning is an area in the more general discipline of __machine learning__\n",
    "- In machine learning, the computer figures out (i.e. learns) how to do a task, rather than the programmer explicitly programming it to perform that task\n",
    "- Further reading: _Artificial Intelligence: A Frontier of Automation, Samuel_"
   ]
  },
  {
   "cell_type": "markdown",
   "metadata": {},
   "source": [
    "## What is a Neural Network?\n",
    "- A neural network is a mathematical function that is extremely flexibile depending on its weight\n",
    "- The __universal approximation theorem__ shows that this function can solve any problem to any level of accuracy, in theory\n",
    "- To solve a problem with a neural network model, a mechanism is needed for __automatically updating the weights__ such that the model approximates the solution for that problem. Such a mechanism exists, it is called __stochastic gradient descent (SGD)__.\n",
    "- For an image recognition problem for instance:\n",
    "    - The __inputs__ are the images\n",
    "    - The __weights__ are the weights in the neural net\n",
    "    - The __results__ are the values calculated by the neural net (e.g. 'cat' or 'dog' if we are trying to build a cat/dog classifier)\n",
    "    - The __performance__ is the accuracy at predicting the correct answers"
   ]
  },
  {
   "cell_type": "markdown",
   "metadata": {},
   "source": [
    "## A Bit of Deep Learning Jargon\n",
    "- Model = __Architecture__\n",
    "- Weights = __Parameters__\n",
    "- __Predictions__ are calculated from the __independent variable__ , which is the data excluding the labels\n",
    "- The _results_ are called __predictions__\n",
    "- The measure of _performance_ is called the __loss__\n",
    "- The loss depends not only on predictions, but also the correct __labels__ (aka __targets__ or __dependent variable__)"
   ]
  },
  {
   "cell_type": "markdown",
   "metadata": {},
   "source": [
    "## Limitations Inherent to Machine Learning\n",
    "- Limitations:\n",
    "    - Model cannot be created without data\n",
    "    - Model can only learn to operate on patterns in input data used to train it\n",
    "    - Only predictions, not recommended actions\n",
    "    - Data must also have labels\n",
    "- A model can interact with its environment. Example of predictive policing:\n",
    "    - Model based on data indicates where a lot of arrests were made in the past\n",
    "    - Law enforcement focuses policing in those areas, resulting in more arrests\n",
    "    - Data fed back to model &rarr; positive feedback loop, i.e. the more the model is used, the more biased data becomes"
   ]
  },
  {
   "cell_type": "markdown",
   "metadata": {},
   "source": [
    "## How Our Image Recognized Works"
   ]
  },
  {
   "cell_type": "markdown",
   "metadata": {},
   "source": [
    "```python\n",
    "from fastai.vision.all import *             # imports library\n",
    "\n",
    "path = untar_data(URLs.PETS)/'images'       # downloads standard dataset from fast.ai datasets collection\n",
    "\n",
    "def is_cat(x): return x[0].isupper()        # function which labels cats based on filename rule\n",
    "\n",
    "dls = ImageDataLoaders.from_name_func(      # class for loading in image data \n",
    "    path,                                   # location of data\n",
    "    get_image_files(path),                  # ?\n",
    "    valid_pct=0.2,                          # validation set percentage\n",
    "    seed=42,                                # random seed\n",
    "    label_func=is_cat,                      # what function to use to label data\n",
    "    item_tfms=Resize(224))                  # transformation per item (there is also batch_tfms)\n",
    "\n",
    "learn = vision_learner(dls, resnet34, metrics=error_rate)   # convolutional neural network (CNN) + architecture\n",
    "```"
   ]
  },
  {
   "cell_type": "markdown",
   "metadata": {},
   "source": [
    "- __Classification__: predict class or category from number of discrete possibilities\n",
    "- __Regression__: predict numeric quantities\n",
    "- fastai will always show model __accuracy based on validation set alone, not training set__\n",
    "- If you __overfit__ your training data, your training set accuracy will improve, but validation set accuracy will suffer.\n",
    "- __Overfitting is the single most important and challenging issue__\n",
    "    - Overfitting happens when your algorithm memorizes the data \n",
    "    - There are techniques to mitigate/avoid overfitting. These techniques should only be employed when overfitting is observed.\n",
    "- Validation set: when you train a model, you must always have both a training and validation set. __Accuracy must be measured on validation set.__ \n",
    "- By default fastai has validation set percentage of 20%.\n",
    "- __In practice picking an architecture is not very important.__ It is more of an academic subject. There are some standard architectures that work most of the time, like __ResNet__ for computer vision problems.\n",
    "- The 34 in __ResNet34__ refers to the number of layers in the architecture.\n",
    "- If a neural network has more layers:\n",
    "    - it takes longer to train and is more prone to overfitting (i.e. you can't train them for as many epochs before the accuracy on the validation set starts getting worse.)\n",
    "    - on the other hand, when using more data, more layers can yield better accuracy\n",
    "- What is a __metric__?\n",
    "    - A function that measures __quality of model's predictions using validation set__ (it is printed at end of each epoch).\n",
    "    - Usually the metric is __error rate__ (percentage of images classified incorrectly). Other common metric is __accuracy__ (`1.0-errror_rate`).\n",
    "    - fastai provides many more metrics\n",
    "    - Difference between __metric__ and __loss__: \n",
    "        - Loss is a measurement of performance that training system __uses to update weights automatically__ (i.e. it is used for SGD)\n",
    "        - Metric is for __human consumption__, easy to understand and hews as closely as possible to what you want the model to do\n",
    "- __Pretrained models__ have been trained on some other dataset. You should nearly always use a pretrained model, because you will have a better starting point.\n",
    "- When using a pretrained model, `vision_learner` will remove last layer, since it is customized to original training task, and replace with one or more layers with randomized weights. This part of the model is known as the __head__.\n",
    "- Using pretrained models allows for training more accurate models, more quickly, with less data, and less time and money. Nevertheless, it is not recognized in academia as much as it should.\n",
    "- Using pretrained model for a task different to what it was originally trained for is known as __transfer learning__.\n",
    "- __Fine-tuning__ is a transfer learning technique where the parameters of a pretrained model are updated by training for additional epochs using a different task to that used for pretraining.\n",
    "- When calling `fine-tune`, fastai applies following tricks:\n",
    "    1. Use one epoch to fit just those parts of the model necessary to get the new random head to work correctly with the dataset\n",
    "    1. Use number of epochs requested, updating weights of later layers (especially head) faster than earlier layers.\n",
    "- An __epoch__ is one complete pass through the dataset. After each epoch, following is printed:\n",
    "    - Epoch number\n",
    "    - training and validation set losses (measure of performance)\n",
    "    - requested metrics (e.g. error rate)"
   ]
  },
  {
   "cell_type": "markdown",
   "metadata": {},
   "source": [
    "## What Our Image Recognizer Learned\n",
    "- Deep learning results are often regarded as a 'black box', i.e. difficult to interpret/explain. However there is a lot of research about how to inspect deep learning models and gain rich insights from them.\n",
    "- Further reading: _Visualizing and Understanding Convolutional Networks, Zeiler, Fergus_"
   ]
  },
  {
   "cell_type": "markdown",
   "metadata": {},
   "source": [
    "## Image Recognizer Can Tackle Non-Image Tasks\n",
    "- You can represent different things as an image and then use an image recognizer. For instance by converting sound into a spectogram. It is important that when doing this, the components that you would like the deep learning model to recognize, are easily detectable. A good rule of thumb is that if a human eye can detect it, a deep learning model should be able to do so too. "
   ]
  },
  {
   "cell_type": "markdown",
   "metadata": {},
   "source": [
    "## Deep Learning Is Not Just For Image Classification\n",
    "- Another application of deep learning is called _segmentation_. This is about identifying what each pixel in an image belongs to. It is used for instance in autonomous driving."
   ]
  },
  {
   "cell_type": "markdown",
   "metadata": {},
   "source": [
    "- Example of training a segmentation model using a subset of Camvid dataset shown below. Code is very similar to previous cat/dog classifier.\n",
    "\n",
    "```python\n",
    "path = untar_data(URLs.CAMVID_TINY)\n",
    "dls = SegmentationDataLoaders.from_label_func(\n",
    "    path, bs=8, fnames = get_image_files(path/\"images\"),\n",
    "    label_func = lambda o: path/'labels'/f'{o.stem}_P{o.suffix}',\n",
    "    codes = np.loadtxt(path/'codes.txt', dtype=str)\n",
    ")\n",
    "\n",
    "learn = unet_learner(dls, resnet34)\n",
    "learn.fine_tune(8)\n",
    "learn.show_results(max_n=6, figsize=(7,8))\n",
    "```"
   ]
  },
  {
   "cell_type": "markdown",
   "metadata": {},
   "source": [
    "- Example of deep learning NLP model (note to self: could not get it to work. Revisit later to troubleshoot.)\n",
    "\n",
    "```python\n",
    "from fastai.text.all import *\n",
    "\n",
    "dls = TextDataLoaders.from_folder(untar_data(URLs.IMDB), valid='test', bs=16)\n",
    "learn = text_classifier_learner(dls, AWD_LSTM, drop_mult=0.5, metrics=accuracy)\n",
    "learn.fine_tune(4, 1e-2)\n",
    "```"
   ]
  },
  {
   "cell_type": "markdown",
   "metadata": {},
   "source": [
    "## Jupyter\n",
    "- Restart notebook: hit `00` in command mode to restart notebook (wipes internal state and restarts)\n",
    "- Check documentation fastai: `doc([method name])`, example: `doc(learn.predict)`"
   ]
  },
  {
   "cell_type": "markdown",
   "metadata": {},
   "source": [
    "## Datasets: Food for Models\n",
    "- There are curated datasets that serve as _academic baselines_, i.e. they are used in research to compare model performance\n",
    "- In practice deep learning practitioners use such datasets, but in order to iterate quickly, they use representative subsets of such datasets."
   ]
  },
  {
   "cell_type": "markdown",
   "metadata": {},
   "source": [
    "## Validation Sets and Test Sets\n",
    "- Goal of a model is to make predictions about data. But if we train model with all our data, we won't be able to tell how well it performs outside of the training data. Therefore we withhold a part of the data and call that part the __validation set__. The rest is called the __training set__.\n",
    "- As we explore different models, there are a lot of variables we play around with. For example: network architecture, learning rates, data augmentation strategies, and so on. These are known as __hyperparameters__. \n",
    "- Hyperparameter tuning can also leads to overfitting. Because of this, we introduce an even more highly reserved dataset, the __test set__. It is only to be used at the very end of our efforts."
   ]
  },
  {
   "cell_type": "markdown",
   "metadata": {},
   "source": [
    "## Use Judgment in Defining Test Sets\n",
    "- Randomly selecting a test set is not always a good idea. For instance, for a time series, you would usually want to predict what will happen in the future.\n",
    "- In general you don't want your model to be trained based on peculiarities/specifics of the training dataset (e.g. Kaggle fisheries competition, Kaggle distracted driver competition)"
   ]
  },
  {
   "cell_type": "markdown",
   "metadata": {},
   "source": [
    "## Questionnaire\n",
    "1. Do you need these for deep learning?\n",
    "    - Lots of math T / F\n",
    "    - Lots of data T / F\n",
    "    - Lots of expensive computers T / F\n",
    "    - A PhD T / F\n",
    "1. Name five areas where deep learning is now the best in the world.\n",
    "    - NLP, computer vision, medicine, biology, image recommendation systems, robotics\n",
    "1. What was the name of the first device that was based on the principle of the artificial neuron?  \n",
    "Mark I Perceptron (made by Rosenblatt)\n",
    "1. Based on the book of the same name, what are the requirements for parallel distributed processing (PDP)?\n",
    "    1. A set of _processing units_\n",
    "    1. A state of _activation_\n",
    "    1. An _output function_ for each unit\n",
    "    1. A _pattern of connectivity_ among units\n",
    "    1. A _propagation rule_ for propagating patterns of activities through the network of connectivities\n",
    "    1. An _activation rule_ for combining inputs impinging on a unit with the current state of that unit to produce an output for the unit\n",
    "    1. A _learning rule_ whereby patterns of connectivity are modified by experience\n",
    "    1. An _environment_ within which the system must operate\n",
    "1. What were the two theoretical misunderstandings that held back the field of neural networks?\n",
    "    1. Simple functions (like XOR) cannot be modelled\n",
    "    1. ?\n",
    "1. What is a GPU?\n",
    "    - Graphics Processing Unit, also known as a graphics card, good at performing many tasks at the same time (matrix multiplication)\n",
    "1. Open a notebook and execute a cell containing: `1+1`. What happens?\n",
    "1. Follow through each cell of the stripped version of the notebook for this chapter. Before executing each cell, guess what will happen.\n",
    "1. Complete the Jupyter Notebook online appendix.\n",
    "1. Why is it hard to use a traditional computer program to recognize images in a photo?\n",
    "    - Too much variation in input data (various images), too many rules to program, intractable\n",
    "1. What did Samuel mean by \"weight assignment\"?\n",
    "    - Choice of parameter values\n",
    "1. What term do we normally use in deep learning for what Samuel called \"weights\"?\n",
    "    - parameters\n",
    "1. Draw a picture that summarizes Samuel's view of a machine learning model.\n",
    "1. Why is it hard to understand why a deep learning model makes a particular prediction?\n",
    "    - ?\n",
    "1. What is the name of the theorem that shows that a neural network can solve any mathematical problem to any level of accuracy?\n",
    "    - Universal Approximation Theorem\n",
    "1. What do you need in order to train a model?\n",
    "    - labeled data\n",
    "1. How could a feedback loop impact the rollout of a predictive policing model?\n",
    "    - Based on the data the model could predict certain areas have a higher crime rate, if policing efforts are then focused in those areas, it will lead to more arrests, further reinforcing the model (positive feedback)\n",
    "1. Do we always have to use 224×224-pixel images with the cat recognition model?\n",
    "    - No, it is a choice (a hyperparameter)\n",
    "1. What is the difference between classification and regression?\n",
    "    - Classification is about predicting categories or classes and regression is about predicting numberic quantities\n",
    "1. What is a validation set? What is a test set? Why do we need them?\n",
    "    - Validation set is used to evaluate model accuracy and mitigate overfitting during training\n",
    "    - Test set is a more exclusive dataset only to be used at the very end to mitigate overfitting due to hyperparameter tuning\n",
    "1. What will fastai do if you don't provide a validation set?\n",
    "    - Take 20% of the data randomly and make it the validation set \n",
    "1. Can we always use a random sample for a validation set? Why or why not?\n",
    "    - No, you may not be able to prevent overfitting that way in all cases. For example with time series.\n",
    "1. What is overfitting? Provide an example.\n",
    "    - It is when your model learns idiosyncrasies from the training data and therefore does not generalize to data it has not seen before. Example: if you have a computer vision model that tries to determine if an image is that of a cat, but you only have images of the same cat, it will not generalize well to other cats. The model will learn the shape, color, and other specifics of that cat alone.\n",
    "1. What is a metric? How does it differ from \"loss\"?\n",
    "    - A metric is a measure of accuracy of the model. It is for human consumption to determine how well our model is performing. Loss on the other hand is a measure used by the deep learning model to tune the parameters. It is used by SGD.\n",
    "1. How can pretrained models help?\n",
    "    - Less data, more accuracy, less time/money\n",
    "1. What is the \"head\" of a model?\n",
    "    - Top layer, predicts what we are interested in\n",
    "1. What kinds of features do the early layers of a CNN find? How about the later layers?\n",
    "    - Early: lines, gradients, later: patterns, shapes\n",
    "1. Are image models only useful for photos?\n",
    "    - No, you can represent different data as images and use an image model (e.g. spectogram for audio)\n",
    "1. What is an \"architecture\"?\n",
    "    - The deep learning network\n",
    "1. What is segmentation?\n",
    "    - Identifying what each pixel of an image is a pixel of \n",
    "1. What is `y_range` used for? When do we need it?\n",
    "    - Range of our target, we need it when predicting a continuous number (rather than a category)\n",
    "1. What are \"hyperparameters\"?\n",
    "    - A parameter that is used to control the learning process (e.g. model architecture, learning rate, batch size, etc.)\n",
    "1. What's the best way to avoid failures when using AI in an organization?\n",
    "    - Test set that machine learning engineers do not get to use"
   ]
  }
 ],
 "metadata": {
  "language_info": {
   "name": "python"
  },
  "orig_nbformat": 4
 },
 "nbformat": 4,
 "nbformat_minor": 2
}
